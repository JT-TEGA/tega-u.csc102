{
 "cells": [
  {
   "cell_type": "code",
   "execution_count": 5,
   "id": "45ac2260",
   "metadata": {},
   "outputs": [
    {
     "name": "stdout",
     "output_type": "stream",
     "text": [
      "Name   |   Age  |    Height  |  Score\n",
      "Smantha | 17 | 5.5 | 80\n",
      "Charles | 19 | 5.7 | 74\n",
      "Jada | 16 | 6.0 | 85\n",
      "Jude | 16 | 5.9 | 87\n",
      "Jane | 17 | 5.4 | 70\n",
      "James | 18 | 5.8 | 75\n",
      "Claire | 18 | 5.9 | 60\n",
      "Kelvin | 17 | 6.1 | 68\n",
      "Elizabeth | 16 | 5.6 | 76\n",
      "Biodun | 20 | 5.9 | 66\n",
      "Mary | 18 | 5.5 | 66\n",
      "Wale | 19 | 5.5 | 78\n",
      "Susan | 17 | 6.1 | 87\n",
      "Kunle | 16 | 6.1 | 87\n",
      "Waje | 20 | 6.0 | 95\n",
      "Matthew | 18 | 5.4 | 98\n",
      "Taibat | 19 | 5.7 | 50\n",
      "Tom | 17 | 5.8 | 54\n",
      "Lilian | 17 | 5.5 | 49\n",
      "Kayode | 19 | 5.7 | 60\n"
     ]
    }
   ],
   "source": [
    "names = {\"Girls\":[\"Smantha\", \"Jada\", \"Jane\",  \"Claire\", \"Elizabeth\", \"Mary\", \"Susan\", \"Waje\",    \"Taibat\", \"Lilian\"],\n",
    "         \"Boys\" :[\"Charles\", \"Jude\", \"James\", \"Kelvin\", \"Biodun\",    \"Wale\", \"Kunle\", \"Matthew\", \"Tom\",    \"Kayode\"]}\n",
    "\n",
    "\n",
    "age = {\"Girls\":[17,16,17,18,16,18,17,20,19,17],\n",
    "       \"Boys\": [19,16,18,17,20,19,16,18,17,19]}\n",
    "\n",
    "\n",
    "height = {\"Girls\":[5.5,6.0,5.4,5.9,5.6,5.5,6.1,6.0,5.7,5.5],\n",
    "          \"Boys\": [5.7,5.9,5.8,6.1,5.9,5.5,6.1,5.4,5.8,5.7]}\n",
    "\n",
    "\n",
    "scores = {\"Girls\":[80,85,70,60,76,66,87,95,50,49],\n",
    "          \"Boys\": [74,87,75,68,66,78,87,98,54,60]}\n",
    "\n",
    "\n",
    "print(\"Name   |   Age  |    Height  |  Score\")\n",
    "for i in range(10):\n",
    "    print(names [\"Girls\"][i], \"|\", age[\"Girls\"][i], \"|\", height[\"Girls\"][i], \"|\", scores[\"Girls\"][i])\n",
    "    print(names [\"Boys\"][i],  \"|\", age[\"Boys\"][i],  \"|\", height[\"Boys\"][i],  \"|\", scores[\"Boys\"][i])"
   ]
  },
  {
   "cell_type": "code",
   "execution_count": 4,
   "id": "0c3618cb",
   "metadata": {},
   "outputs": [
    {
     "name": "stdout",
     "output_type": "stream",
     "text": [
      "What is your name?/nTega\n",
      "How many years of working experince aquired?\n",
      "6\n",
      "How old are you?/n20\n",
      "ATR == 550,000\n"
     ]
    }
   ],
   "source": [
    "# python program to shows the annual tax revenue of employees\n",
    "\n",
    "name = input('What is your name?/n')\n",
    "exp  = int(input('How many years of working experince aquired?\\n'))\n",
    "age  = int(input('How old are you?/n'))\n",
    "ATR  = ('AnnualTax Revenue')\n",
    "\n",
    "if exp > 25 and age > 55 :\n",
    "        print('ATR == 5,600,000')\n",
    "        \n",
    "if exp > 20 and age >= 45 :\n",
    "        print('ART == 4,480,000')\n",
    "        \n",
    "if exp > 10 and age >= 35 :\n",
    "        print('ATR == 1,500,000')\n",
    "        \n",
    "if exp < 10 and age < 35 :\n",
    "        print('ATR == 550,000')\n",
    "        \n",
    "        \n",
    "        \n",
    "        "
   ]
  },
  {
   "cell_type": "code",
   "execution_count": null,
   "id": "dc76757c",
   "metadata": {},
   "outputs": [],
   "source": []
  },
  {
   "cell_type": "code",
   "execution_count": null,
   "id": "6f185e36",
   "metadata": {},
   "outputs": [],
   "source": []
  }
 ],
 "metadata": {
  "kernelspec": {
   "display_name": "Python 3 (ipykernel)",
   "language": "python",
   "name": "python3"
  },
  "language_info": {
   "codemirror_mode": {
    "name": "ipython",
    "version": 3
   },
   "file_extension": ".py",
   "mimetype": "text/x-python",
   "name": "python",
   "nbconvert_exporter": "python",
   "pygments_lexer": "ipython3",
   "version": "3.10.9"
  }
 },
 "nbformat": 4,
 "nbformat_minor": 5
}
