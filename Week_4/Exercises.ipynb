{
 "cells": [
  {
   "cell_type": "code",
   "execution_count": null,
   "id": "ba58c149",
   "metadata": {},
   "outputs": [],
   "source": [
    "# python program to swap two cities\n",
    "\n",
    "# To take inputs from the user\n",
    "city_1 = input('Enter name of city 1: ')\n",
    "city_2 = input('Enter name of city 2: ')\n",
    "\n",
    "# create a temporary variable and swap the cities\n",
    "temp = city_1\n",
    "city_1 = city_2\n",
    "city_2 = temp\n",
    "\n",
    "print(f\"The name of city 1 after swapping is {city_1}\")\n",
    "print(f\"The name of city 2 after swapping is {city_2}\")\n"
   ]
  },
  {
   "cell_type": "code",
   "execution_count": null,
   "id": "c2d6046f",
   "metadata": {},
   "outputs": [],
   "source": [
    "# program to check if a number is positiven, Negative or 0\n",
    "\n",
    "num = float(input(\"Enter a number: \"))\n",
    "if num > 0:\n",
    "    print(\"positive number\")\n",
    "elif num == 0:\n",
    "    print(\"Zero\")\n",
    "else:\n",
    "    print(\"Negative number\")"
   ]
  },
  {
   "cell_type": "code",
   "execution_count": null,
   "id": "2bcc45a4",
   "metadata": {},
   "outputs": [],
   "source": [
    "# COUPE DE ESCRIVA 2023: FOOTBALL PICKS\n",
    "\n",
    "print(\"Welcome to the COUPE DE ESCRIVA 2023: FOOTBALL PICKS \\n\")\n",
    "\n",
    "captain = {'Madiba: ': 'Chubby Obiora-Okafo', 'Blue-Jays:' :'Christopher Uweh','Cirok:': 'Alexander','TSG Walkers:': 'Ikechukwu'}\n",
    "\n",
    "goalkeepers = {'Madiba:' : 'Chubby Obiora-Okafo', 'Blue-Jays: ':'Oladimeji Abaniwondea/Jeffery Awagu', 'Cirok:' : 'Timileyin Pearse/Izuako Jermey', 'TSG Walkers: ': 'Ayomide Ojituku'}\n",
    "\n",
    "for pick in captain:\n",
    "    print(pick, captain[pick])\n",
    "\n",
    "print(\"\\n\")\n",
    "\n",
    "for pick in goalkeepers:\n",
    "    print(pick, goalkeepers[pick])"
   ]
  }
 ],
 "metadata": {
  "kernelspec": {
   "display_name": "Python 3 (ipykernel)",
   "language": "python",
   "name": "python3"
  },
  "language_info": {
   "codemirror_mode": {
    "name": "ipython",
    "version": 3
   },
   "file_extension": ".py",
   "mimetype": "text/x-python",
   "name": "python",
   "nbconvert_exporter": "python",
   "pygments_lexer": "ipython3",
   "version": "3.10.9"
  }
 },
 "nbformat": 4,
 "nbformat_minor": 5
}
