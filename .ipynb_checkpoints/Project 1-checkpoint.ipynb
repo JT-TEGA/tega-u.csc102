{
 "cells": [
  {
   "cell_type": "markdown",
   "id": "a2c0df6a",
   "metadata": {},
   "source": [
    "# Project 1"
   ]
  },
  {
   "cell_type": "code",
   "execution_count": 8,
   "id": "1c99a5c3",
   "metadata": {},
   "outputs": [
    {
     "name": "stdout",
     "output_type": "stream",
     "text": [
      "PROGRAM FOR ONLINE SHOPPING OF ORANGES\n",
      "The total number of oranges is 65\n",
      "The cost of one orange is N150\n",
      "How many Oranges would you like to purchase:63\n",
      "Your total is:9450\n",
      "Thank you for shopping with us\n"
     ]
    }
   ],
   "source": [
    "class Orangeseller :\n",
    "    print(\"PROGRAM FOR ONLINE SHOPPING OF ORANGES\")\n",
    "    print(\"The total number of oranges is 65\")\n",
    "    print(\"The cost of one orange is N150\")\n",
    "    \n",
    "    def __init__(self,number,cost):\n",
    "        self.number = number\n",
    "        self.cost   = cost\n",
    "        \n",
    "    def quantity(self):\n",
    "        total = number * cost\n",
    "        print(f\"Your total is:{total}\")\n",
    "        print(\"Thank you for shopping with us\")\n",
    "            \n",
    "number =int(input(\"How many Oranges would you like to purchase:\"))\n",
    "cost   = 150\n",
    "inp = Orangeseller(number , cost)\n",
    "if number < 65:\n",
    "    inp.quantity()\n",
    "elif number > 65:\n",
    "    print(\"Sorry the amount entered is above stock amount\")\n",
    "    print(\"Select an amount less than 65 and try again\")\n",
    "else:\n",
    "    print(\"Invalid input\")\n",
    "    \n",
    "    "
   ]
  },
  {
   "cell_type": "code",
   "execution_count": null,
   "id": "484e78fd",
   "metadata": {},
   "outputs": [],
   "source": []
  },
  {
   "cell_type": "code",
   "execution_count": null,
   "id": "a102b779",
   "metadata": {},
   "outputs": [],
   "source": []
  }
 ],
 "metadata": {
  "kernelspec": {
   "display_name": "Python 3 (ipykernel)",
   "language": "python",
   "name": "python3"
  },
  "language_info": {
   "codemirror_mode": {
    "name": "ipython",
    "version": 3
   },
   "file_extension": ".py",
   "mimetype": "text/x-python",
   "name": "python",
   "nbconvert_exporter": "python",
   "pygments_lexer": "ipython3",
   "version": "3.10.9"
  }
 },
 "nbformat": 4,
 "nbformat_minor": 5
}
