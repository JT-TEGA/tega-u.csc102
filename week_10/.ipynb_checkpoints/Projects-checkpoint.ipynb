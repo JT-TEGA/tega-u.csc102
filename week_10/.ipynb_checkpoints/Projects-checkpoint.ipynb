{
 "cells": [
  {
   "cell_type": "markdown",
   "id": "a2c0df6a",
   "metadata": {},
   "source": [
    "# Project 1"
   ]
  },
  {
   "cell_type": "code",
   "execution_count": 2,
   "id": "1c99a5c3",
   "metadata": {},
   "outputs": [
    {
     "name": "stdout",
     "output_type": "stream",
     "text": [
      "PROGRAM FOR ONLINE SHOPPING OF ORANGES\n",
      "The total number of oranges is 65\n",
      "The cost of one orange is N150\n",
      "How many Oranges would you like to purchase:90\n",
      "Sorry the amount entered is above stock amount\n",
      "Select an amount less than 65 and try again\n"
     ]
    }
   ],
   "source": [
    "class Orangeseller :\n",
    "    print(\"PROGRAM FOR ONLINE SHOPPING OF ORANGES\")\n",
    "    print(\"The total number of oranges is 65\")\n",
    "    print(\"The cost of one orange is N150\")\n",
    "    \n",
    "    def __init__(self,number,cost):\n",
    "        self.number = number\n",
    "        self.cost   = cost\n",
    "        \n",
    "    def quantity(self):\n",
    "        total = number * cost\n",
    "        print(f\"Your total is:{total}\")\n",
    "        print(\"Thank you for shopping with us\")\n",
    "            \n",
    "number =int(input(\"How many Oranges would you like to purchase:\"))\n",
    "cost   = 150\n",
    "inp = Orangeseller(number , cost)\n",
    "if number < 65:\n",
    "    inp.quantity()\n",
    "elif number > 65:\n",
    "    print(\"Sorry the amount entered is above stock amount\")\n",
    "    print(\"Select an amount less than 65 and try again\")\n",
    "else:\n",
    "    print(\"Invalid input\")\n",
    "    \n",
    "    "
   ]
  },
  {
   "cell_type": "markdown",
   "id": "1137d27b",
   "metadata": {},
   "source": [
    "# Project 2\n"
   ]
  },
  {
   "cell_type": "code",
   "execution_count": 9,
   "id": "a102b779",
   "metadata": {},
   "outputs": [
    {
     "name": "stdout",
     "output_type": "stream",
     "text": [
      "PROGRAM TO CALCULATE THE AREA OF SHAPES\n",
      "Choose a shape: trapezium\n",
      "What is your height: 6\n",
      "What is your first base: 3\n",
      "What is your second base: 9\n",
      "The area of the trapezium is: 36.0\n"
     ]
    }
   ],
   "source": [
    "\n",
    "class formula():\n",
    "    def trapezium(self,height,base1,base2):\n",
    "                self.height = height\n",
    "                self.base1 = base1\n",
    "                self.base2 = base2\n",
    "                area = (self.height / 2) * (self.base1 +  self.base2)\n",
    "                print(f\"The area of the trapezium is: {area}\")\n",
    "    def rhombus(self,diagonal1,diagonal2):\n",
    "                self.diagonal1 = diagonal1\n",
    "                self.diagonal2 = diagonal2\n",
    "                area = 0.5 * self.diagonal1 * self.diagonal2\n",
    "                print(f\"The area of the rhombus is: {area}\")\n",
    "    def parallelogram(self,base,altitude):\n",
    "                      self.base = base \n",
    "                      self.altitude = altitude\n",
    "                      area = self.base * self.altitude\n",
    "                      print(f\"The area of the parallelogram is: {area}\")\n",
    "    def cube(self,length):\n",
    "                         self.length = length\n",
    "                         area = 4 * (length ** 7)\n",
    "                         print(f\"The area of the cube is: {area}\")\n",
    "    def cylinder(self, radius, height):\n",
    "                                  self.radius = radius\n",
    "                                  self.height = height\n",
    "                                  pie = float(22 / 7)\n",
    "                                  area = pie * (self.radius ** 2) * height\n",
    "                                  print(f\"The area of the cylinder is: {area}\")\n",
    "                  \n",
    "print(\"PROGRAM TO CALCULATE THE AREA OF SHAPES\")\n",
    "inp = formula()\n",
    "decision = str(input(\"Choose a shape: \")).lower()\n",
    "if decision == \"trapezium\":\n",
    "                   height = int(input(\"What is your height: \"))\n",
    "                   base1 = int(input(\"What is your first base: \"))                          \n",
    "                   base2 = int(input(\"What is your second base: \"))\n",
    "                   inp.trapezium(height,base1,base2)\n",
    "elif decision == \"rhombus\":\n",
    "                diagonal1 = int(input(\"What is your first diagonal: \"))                        \n",
    "                diagonal2 = int(input(\"What is your second diagonal: \"))                         \n",
    "                inp.rhombus(diagonal1,diagonal2)                        \n",
    "elif decision == \"parallelogram\":\n",
    "                base = int(input(\"What is your base: \"))                        \n",
    "                altitude = int(input(\"What is your altitude: \"))                         \n",
    "                inp.parallelogram(base,altitude)                                 \n",
    "elif decision == \"cube\":\n",
    "                length = int(input(\"What is your length: \"))                                                 \n",
    "                inp.cube(length)\n",
    "elif decision == \"cylinder\":\n",
    "                radius = int(input(\"What is your radius: \"))                        \n",
    "                height = int(input(\"What is your height: \"))                         \n",
    "                inp.cylinder(radius,height)\n",
    "else:\n",
    "      print(\"Invalid Input\")                                  "
   ]
  },
  {
   "cell_type": "markdown",
   "id": "aceaed0f",
   "metadata": {},
   "source": [
    "# Project 3"
   ]
  },
  {
   "cell_type": "code",
   "execution_count": 10,
   "id": "b1edd667",
   "metadata": {},
   "outputs": [
    {
     "name": "stdout",
     "output_type": "stream",
     "text": [
      "PROGRAM THAT SAVES DRINK CATEGORIES TO CVS FILE\n",
      "File was successfully saved\n"
     ]
    }
   ],
   "source": [
    "import pandas as pd\n",
    "\n",
    "class brewery():\n",
    "    def save(self,records):\n",
    "        self.records = records\n",
    "        print(\"File was successfully saved\")\n",
    "        \n",
    "print(\"PROGRAM THAT SAVES DRINK CATEGORIES TO CVS FILE\")\n",
    "records = {'Lager': [\"33 Export\", \"Desperados\", \"Goldberg\", \"Gulder\", \"Heineken\", \"Star\"],\n",
    "                        'Stout': [\"Legend\", \"Turbo King\", \"Williams\", \"\", \"\", \"\"],\n",
    "                        'Non-Alcoholic': [\"Maltina\", \"Amstel Malta\", \"Malta Gold\", \"Fayrouz\", \"\", \"\"]}\n",
    "df = pd.DataFrame(records)\n",
    "df.to_csv('records.csv')\n",
    "        \n",
    "inp = brewery()\n",
    "inp.save(records)"
   ]
  },
  {
   "cell_type": "code",
   "execution_count": null,
   "id": "dcda4784",
   "metadata": {},
   "outputs": [],
   "source": []
  }
 ],
 "metadata": {
  "kernelspec": {
   "display_name": "Python 3 (ipykernel)",
   "language": "python",
   "name": "python3"
  },
  "language_info": {
   "codemirror_mode": {
    "name": "ipython",
    "version": 3
   },
   "file_extension": ".py",
   "mimetype": "text/x-python",
   "name": "python",
   "nbconvert_exporter": "python",
   "pygments_lexer": "ipython3",
   "version": "3.10.9"
  }
 },
 "nbformat": 4,
 "nbformat_minor": 5
}
